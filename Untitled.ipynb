{
 "cells": [
  {
   "cell_type": "code",
   "execution_count": 3,
   "metadata": {},
   "outputs": [
    {
     "name": "stdin",
     "output_type": "stream",
     "text": [
      "enter 1\n",
      "enter 2\n",
      "enter 3\n",
      "enter 4\n",
      "enter \n"
     ]
    },
    {
     "name": "stdout",
     "output_type": "stream",
     "text": [
      "10.0\n"
     ]
    }
   ],
   "source": [
    "my_sum = 0\n",
    "while True: \n",
    "    num = input(\"enter\")\n",
    "    if num == \"\":\n",
    "        break\n",
    "    try:        \n",
    "        my_sum += float(num)\n",
    "    except ValueError:\n",
    "        print(\"invalid value\")\n",
    "print(my_sum)"
   ]
  },
  {
   "cell_type": "code",
   "execution_count": 11,
   "metadata": {},
   "outputs": [],
   "source": [
    "import random \n",
    "import time"
   ]
  },
  {
   "cell_type": "code",
   "execution_count": 21,
   "metadata": {},
   "outputs": [],
   "source": [
    "mylist = random.sample(range(1, 1000001), 10000)\n",
    "myset = set(mylist)"
   ]
  },
  {
   "cell_type": "code",
   "execution_count": 19,
   "metadata": {},
   "outputs": [
    {
     "name": "stdout",
     "output_type": "stream",
     "text": [
      "time list: 1.4228966236114502\n",
      "time set: 0.01601099967956543\n"
     ]
    }
   ],
   "source": [
    "t0 = time.time()\n",
    "for i in range(10000):\n",
    "    x = random.randint(1, 1000000)\n",
    "    x in mylist\n",
    "print(f\"time list: {time.time() - t0}\")\n",
    "\n",
    "t0 = time.time()\n",
    "for i in range(10000):\n",
    "    x = random.randint(1, 1000000)\n",
    "    x in myset\n",
    "print(f\"time set: {time.time() - t0}\")"
   ]
  },
  {
   "cell_type": "markdown",
   "metadata": {},
   "source": [
    "## Rule 126"
   ]
  },
  {
   "cell_type": "code",
   "execution_count": 38,
   "metadata": {},
   "outputs": [
    {
     "name": "stdout",
     "output_type": "stream",
     "text": [
      "Tests OK\n"
     ]
    }
   ],
   "source": [
    "def check_neighbors(left, middle, right):\n",
    "        return '.' if left == middle == right else 'X'\n",
    "    \n",
    "def automaton_126(s):\n",
    "    converted_str = \"\"\n",
    "    converted_str += check_neighbors(s[len(s)-1], s[0], s[1])        \n",
    "    for i in range(1,len(s)-1):\n",
    "        converted_str +=check_neighbors(s[i-1], s[i], s[i+1])\n",
    "    converted_str +=check_neighbors( s[0], s[len(s)-2], s[len(s)-1])    \n",
    "    \n",
    "    return converted_str\n",
    "\n",
    "assert automaton_126(\"...\") == \"...\"\n",
    "assert automaton_126(\"XXX\") == \"...\"\n",
    "assert automaton_126(\"...X..X...\") == \"..XXXXXX..\"\n",
    "assert automaton_126(\".....X.....\") == \"....XXX....\"\n",
    "assert automaton_126(\"X..........\") == \"XX........X\"\n",
    "assert automaton_126(\"..........X\") == \"X........XX\"\n",
    "assert automaton_126(\".XX.X.X..X.X.X\") == \"XXXXXXXXXXXXXX\"\n",
    "assert automaton_126(\"...X..X..\") == \"..XXXXXX.\"\n",
    "print(\"Tests OK\")"
   ]
  },
  {
   "cell_type": "code",
   "execution_count": 40,
   "metadata": {},
   "outputs": [],
   "source": [
    "#s = \".........................X.........................\"\n",
    "#for i in range(300):\n",
    "#    print(s)\n",
    "#    s = automaton_126(s)"
   ]
  },
  {
   "cell_type": "markdown",
   "metadata": {},
   "source": [
    "## List Comprehension"
   ]
  },
  {
   "cell_type": "markdown",
   "metadata": {},
   "source": [
    "### Funny reverse"
   ]
  },
  {
   "cell_type": "code",
   "execution_count": 51,
   "metadata": {},
   "outputs": [
    {
     "name": "stdout",
     "output_type": "stream",
     "text": [
      "Oof Rab\n",
      "Eht Kciuq Nworb Xof\n",
      "OK\n"
     ]
    }
   ],
   "source": [
    "def funny(s: str)->str:\n",
    "    tmp =[word[::-1].title() for word in s.split()]\n",
    "    return ' '.join(tmp)\n",
    "\n",
    "result = funny(\"Foo bar\")\n",
    "print(result)\n",
    "assert result == \"Oof Rab\"\n",
    "\n",
    "result = funny(\"The quick brown fox\")\n",
    "print(result)\n",
    "assert result == \"Eht Kciuq Nworb Xof\"\n",
    "\n",
    "print(\"OK\")"
   ]
  },
  {
   "cell_type": "markdown",
   "metadata": {},
   "source": [
    "### Sentence Statistics"
   ]
  },
  {
   "cell_type": "code",
   "execution_count": 59,
   "metadata": {},
   "outputs": [
    {
     "name": "stdout",
     "output_type": "stream",
     "text": [
      "Result: [8, 2, 7, 6, 5, 5, 2, 3, 6, 6, 4]\n",
      "OK\n"
     ]
    }
   ],
   "source": [
    "def word_lengths(s):\n",
    "    return [len(w) for w in s.split()]\n",
    "\n",
    "result = word_lengths(\"Contrary to popular belief Lorem Ipsum is not simply random text\")\n",
    "print(\"Result:\", result)\n",
    "assert result == [8, 2, 7, 6, 5, 5, 2, 3, 6, 6, 4] \n",
    "print(\"OK\")"
   ]
  },
  {
   "cell_type": "code",
   "execution_count": 61,
   "metadata": {},
   "outputs": [
    {
     "name": "stdout",
     "output_type": "stream",
     "text": [
      "Result: 8\n",
      "OK\n"
     ]
    }
   ],
   "source": [
    "def max_word_length(s):\n",
    "    return max(word_lengths(s))\n",
    "\n",
    "result = max_word_length(\"Contrary to popular belief Lorem Ipsum is not simply random text\")\n",
    "print(\"Result:\", result)\n",
    "assert result == 8\n",
    "print(\"OK\")"
   ]
  },
  {
   "cell_type": "markdown",
   "metadata": {},
   "source": [
    "### Not So Funny Reverse"
   ]
  },
  {
   "cell_type": "code",
   "execution_count": 71,
   "metadata": {},
   "outputs": [
    {
     "name": "stdout",
     "output_type": "stream",
     "text": [
      "Oof I Dias\n",
      "Eht Nworb Xof\n",
      "OK\n"
     ]
    }
   ],
   "source": [
    "def funny2(s):\n",
    "    tmp = [w for w in funny(s).split() if '!' not in w]\n",
    "    return ' '.join(tmp)\n",
    "    \n",
    "\n",
    "\n",
    "result = funny2(\"Foo bar! I said bar!\")\n",
    "print(result)\n",
    "assert result == \"Oof I Dias\"\n",
    "\n",
    "result = funny2(\"The qu!ck brown fox\")\n",
    "print(result)\n",
    "assert result == \"Eht Nworb Xof\"\n",
    "\n",
    "print(\"OK\")"
   ]
  },
  {
   "cell_type": "markdown",
   "metadata": {},
   "source": [
    "### Elementary Cellular Automaton - Any Rule"
   ]
  },
  {
   "cell_type": "code",
   "execution_count": 72,
   "metadata": {},
   "outputs": [],
   "source": [
    "#def automaton(s, rules):\n",
    "    \n",
    "\n",
    "#assert automaton(\"..XX.\", 30) == \".XX.X\"\n",
    "#d = {1: \"...\", 2: \"..X\", 4: \".X.\", 8: \".XX\", 16: \"X..\", 32: \"X.X\", 64: \"XX.\", 128: ,\"XXX\"}"
   ]
  },
  {
   "cell_type": "markdown",
   "metadata": {},
   "source": [
    "## Magic trick -set"
   ]
  },
  {
   "cell_type": "code",
   "execution_count": null,
   "metadata": {},
   "outputs": [],
   "source": [
    "def solve(answer1, rows1, answer2, rows2):\n",
    "    num = rows1[answer2] \n",
    "    return \"7\"\n",
    "    # --- ^^^ YOUR CODE HERE ^^^ ---\n",
    "\n",
    "\n",
    "result = solve(\n",
    "    2, [['1', '2', '3', '4'],\n",
    "        ['5', '6', '7', '8'],\n",
    "        ['9', '10', '11', '12'],\n",
    "        ['13', '14', '15', '16']],\n",
    "    3, [['1', '2', '5', '4'],\n",
    "        ['3', '11', '6', '15'],\n",
    "        ['9', '10', '7', '12'],\n",
    "        ['13', '14', '8', '16']])\n",
    "\n",
    "assert result == \"7\", result\n",
    "\n",
    "result = solve(\n",
    "    2, [['1', '2', '3', '4'],\n",
    "        ['5', '6', '7', '8'],\n",
    "        ['9', '10', '11', '12'],\n",
    "        ['13', '14', '15', '16']],\n",
    "    2, [['1', '2', '3', '4'],\n",
    "        ['5', '6', '7', '8'],\n",
    "        ['9', '10', '11', '12'],\n",
    "        ['13', '14', '15', '16']])\n",
    "\n",
    "assert result == \"Bad magician!\", result\n",
    "\n",
    "result = solve(\n",
    "    2, [['1', '2', '3', '4'],\n",
    "        ['5', '6', '7', '8'],\n",
    "        ['9', '10', '11', '12'],\n",
    "        ['13', '14', '15', '16']],\n",
    "    3, [['1', '2', '3', '4'],\n",
    "        ['5', '6', '7', '8'],\n",
    "        ['9', '10', '11', '12'],\n",
    "        ['13', '14', '15', '16']])\n",
    "\n",
    "assert result == \"Volunteer cheated!\", result\n",
    "\n",
    "result = solve(\n",
    "    1, [['1', '2', '3', '4'],\n",
    "        ['5', '6', '7', '8'],\n",
    "        ['9', '10', '11', '12'],\n",
    "        ['13', '14', '15', '16']],\n",
    "    2, [['1', '2', '5', '4'],\n",
    "        ['3', '11', '6', '15'],\n",
    "        ['9', '10', '7', '12'],\n",
    "        ['13', '14', '8', '16']])\n",
    "\n",
    "assert result == \"3\", result\n",
    "\n",
    "\n",
    "print(\"OK\")\n"
   ]
  }
 ],
 "metadata": {
  "kernelspec": {
   "display_name": "Python 3",
   "language": "python",
   "name": "python3"
  },
  "language_info": {
   "codemirror_mode": {
    "name": "ipython",
    "version": 3
   },
   "file_extension": ".py",
   "mimetype": "text/x-python",
   "name": "python",
   "nbconvert_exporter": "python",
   "pygments_lexer": "ipython3",
   "version": "3.7.3"
  }
 },
 "nbformat": 4,
 "nbformat_minor": 4
}
